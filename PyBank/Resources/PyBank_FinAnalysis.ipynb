{
 "cells": [
  {
   "cell_type": "code",
   "execution_count": 1,
   "id": "add7979b",
   "metadata": {},
   "outputs": [],
   "source": [
    "#import file\n",
    "\n",
    "import os\n",
    "import csv"
   ]
  },
  {
   "cell_type": "code",
   "execution_count": 2,
   "id": "7c215ba8",
   "metadata": {},
   "outputs": [],
   "source": [
    "#path to the csvfile\n",
    "csvpath = os.path.join('Resources/budget_data.csv')"
   ]
  },
  {
   "cell_type": "code",
   "execution_count": 3,
   "id": "c7069a8c",
   "metadata": {},
   "outputs": [],
   "source": [
    "#initializing the variables \n",
    "total_months = 0\n",
    "total_revenue =0\n",
    "changes =[]\n",
    "date_count = []\n",
    "greatest_inc = 0\n",
    "greatest_inc_month = 0\n",
    "greatest_dec = 0\n",
    "greatest_dec_month = 0"
   ]
  },
  {
   "cell_type": "code",
   "execution_count": 4,
   "id": "6bb80f9a",
   "metadata": {},
   "outputs": [],
   "source": [
    "# Open the CSV\n",
    "with open(csvpath, newline = '') as csvfile:\n",
    "    csvreader = csv.reader(csvfile, delimiter = ',')\n",
    "    next(csvreader, None)\n",
    "    row = next(csvreader)\n",
    "# calculating the total number of months and total revenue\n",
    "    previous_profit = int(row[1])\n",
    "    total_months = total_months + 1\n",
    "    total_revenue = total_revenue + int(row[1])\n",
    "    greatest_inc = int(row[1])\n",
    "    greatest_inc_month = row[0]\n",
    "\n",
    "    for row in csvreader:\n",
    " \n",
    "        total_months = total_months + 1\n",
    "        total_revenue = total_revenue + int(row[1])\n",
    "\n",
    "        # Calculate change from this month to previous months\n",
    "        change = int(row[1]) - previous_profit\n",
    "        changes.append(change)\n",
    "        previous_profit = int(row[1])\n",
    "        date_count.append(row[0])\n",
    "        \n",
    "        #calculating the greatest increase\n",
    "        if int(row[1]) > greatest_inc:\n",
    "            greatest_inc = int(row[1])\n",
    "            greatest_inc_month = row[0]\n",
    "            \n",
    "        #calculating the greatest decrease\n",
    "        if int(row[1]) < greatest_dec:\n",
    "            greatest_dec = int(row[1])\n",
    "            greatest_dec_month = row[0]  \n",
    "      "
   ]
  },
  {
   "cell_type": "code",
   "execution_count": 5,
   "id": "ea1b1348",
   "metadata": {},
   "outputs": [
    {
     "name": "stdout",
     "output_type": "stream",
     "text": [
      "Financial Analysis\n",
      "---------------------------------\n",
      "Total Months: 86\n",
      "Total Amount: $38382578\n",
      "Average Change: $-2315.12\n",
      "Greatest increase in profits: Feb-2012 $1926159\n",
      "Greatest decrease in profits: Sep-2013 $-2196167\n"
     ]
    }
   ],
   "source": [
    "# calculating the average and date\n",
    "average_change = sum(changes)/len(changes)\n",
    "\n",
    "high = max(changes)\n",
    "low = min(changes)\n",
    "\n",
    "    # printing all values\n",
    "print(\"Financial Analysis\")\n",
    "print(\"---------------------------------\")\n",
    "print(f\"Total Months: {total_months}\")\n",
    "print(f\"Total Amount: ${total_revenue}\")\n",
    "print('Average Change: ${:.2f}'.format(average_change))\n",
    "print(f\"Greatest increase in profits: {greatest_inc_month} ${max(changes)}\")\n",
    "print(f\"Greatest decrease in profits: {greatest_dec_month} ${min(changes)}\")\n",
    "    \n",
    "   "
   ]
  },
  {
   "cell_type": "code",
   "execution_count": 6,
   "id": "9a0a830c",
   "metadata": {},
   "outputs": [],
   "source": [
    " # Exported text File\n",
    "\n",
    "PyBank = open(\"Fin_Analysis.txt\",\"w+\")\n",
    "PyBank.writelines(\"Financial Analysis\")\n",
    "PyBank.writelines('\\n'+\"---------------------------------\")\n",
    "PyBank.writelines('\\n'+f\"Total Months: {total_months}\")\n",
    "PyBank.writelines('\\n'+f\"Total Amount: ${total_revenue}\")\n",
    "PyBank.writelines('\\n'+'Average Change: ${:.2f}'.format(average_change))\n",
    "PyBank.writelines('\\n'+f\"Greatest increase in profits:  {greatest_inc_month} ${max(changes)}\")\n",
    "PyBank.writelines('\\n'+f\"Greatest decrease in profits:  {greatest_dec_month} ${min(changes)}\")\n"
   ]
  },
  {
   "cell_type": "code",
   "execution_count": null,
   "id": "c4df006d",
   "metadata": {},
   "outputs": [],
   "source": []
  }
 ],
 "metadata": {
  "kernelspec": {
   "display_name": "Python 3",
   "language": "python",
   "name": "python3"
  },
  "language_info": {
   "codemirror_mode": {
    "name": "ipython",
    "version": 3
   },
   "file_extension": ".py",
   "mimetype": "text/x-python",
   "name": "python",
   "nbconvert_exporter": "python",
   "pygments_lexer": "ipython3",
   "version": "3.6.13"
  }
 },
 "nbformat": 4,
 "nbformat_minor": 5
}
